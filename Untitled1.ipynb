{
 "cells": [
  {
   "cell_type": "code",
   "execution_count": null,
   "metadata": {
    "scrolled": true
   },
   "outputs": [],
   "source": []
  },
  {
   "cell_type": "code",
   "execution_count": null,
   "metadata": {},
   "outputs": [],
   "source": []
  },
  {
   "cell_type": "code",
   "execution_count": 105,
   "metadata": {},
   "outputs": [
    {
     "name": "stdout",
     "output_type": "stream",
     "text": [
      "      X    Y\n",
      "0    32   30\n",
      "1   543   29\n",
      "2    43  657\n",
      "3    34   28\n",
      "4   433   27\n",
      "5    23  565\n",
      "6   434   43\n",
      "7    22   45\n",
      "8    12  335\n",
      "9    33   12\n",
      "10  432   23\n",
      "11   34   43\n",
      "12   43  564\n",
      "13  324   23\n",
      "14   12   12\n",
      "15  765   43\n",
      "16   45  654\n",
      "17   43   43\n",
      "18   25  543\n",
      "19  564   27\n",
      "20   28   28\n",
      "21   19  645\n",
      "22  877  976\n",
      "23   30   30\n",
      "24   89   78\n",
      "25   56  656\n",
      "26  455   67\n",
      "27   65   56\n",
      "28  567  334\n",
      "29   80   98\n",
      "30   56   98\n",
      "31   84   78\n",
      "32   51  343\n",
      "33   56   87\n",
      "34   65   65\n",
      "35  655  545\n",
      "36   79   56\n",
      "37   52   65\n",
      "38   56   76\n",
      "39   83   21\n",
      "40   80   87\n",
      "41   85  212\n",
      "42  545   65\n",
      "43   25  454\n",
      "44   29   56\n",
      "45   35  565\n",
      "46   84   54\n",
      "47  445  655\n",
      "48   23  578\n"
     ]
    }
   ],
   "source": [
    "import pandas as pd\n",
    "import numpy as np\n",
    "\n",
    "data = pd.read_csv('book1.csv')\n",
    "\n",
    "df=pd.DataFrame(data,columns=['X','Y'])\n",
    "print(df)"
   ]
  },
  {
   "cell_type": "code",
   "execution_count": 107,
   "metadata": {},
   "outputs": [
    {
     "name": "stdout",
     "output_type": "stream",
     "text": [
      "[[ 54.625       60.75      ]\n",
      " [ 33.33333333 546.58333333]\n",
      " [506.2         68.1       ]\n",
      " [659.         725.33333333]]\n",
      "[0 2 1 0 2 1 2 0 1 0 2 0 1 2 0 2 1 0 1 2 0 1 3 0 0 1 2 0 2 0 0 0 1 0 0 3 0\n",
      " 0 0 0 0 0 2 1 0 1 0 3 1]\n"
     ]
    },
    {
     "data": {
      "text/plain": [
       "<matplotlib.collections.PathCollection at 0x2a2f1508748>"
      ]
     },
     "execution_count": 107,
     "metadata": {},
     "output_type": "execute_result"
    },
    {
     "data": {
      "image/png": "[encoded data removed]",
      "text/plain": [
       "<Figure size 432x288 with 1 Axes>"
      ]
     },
     "metadata": {
      "needs_background": "light"
     },
     "output_type": "display_data"
    }
   ],
   "source": [
    "import matplotlib.pyplot as plt\n",
    "from sklearn.cluster import KMeans\n",
    "kmeans = KMeans(n_clusters=4).fit(df)\n",
    "centroids = kmeans.cluster_centers_\n",
    "print(centroids)\n",
    "print(kmeans.labels_)\n",
    "\n",
    "plt.scatter(df['X'], df['Y'], c= kmeans.labels_, s=50, alpha=0.5)\n",
    "\n",
    "plt.scatter(centroids[:, 0], centroids[:, 1], c='red', s=100)"
   ]
  },
  {
   "cell_type": "markdown",
   "metadata": {},
   "source": [
    "# Code Explanation\n"
   ]
  },
  {
   "cell_type": "code",
   "execution_count": 75,
   "metadata": {},
   "outputs": [],
   "source": [
    "import pandas as pd\n",
    "import numpy as np\n",
    "import matplotlib.pyplot as plt\n",
    "from sklearn.cluster import KMeans"
   ]
  },
  {
   "cell_type": "markdown",
   "metadata": {},
   "source": [
    "the above lines import the necessary libraries into the environment from which the required fucntions and packages can be used "
   ]
  },
  {
   "cell_type": "code",
   "execution_count": 76,
   "metadata": {},
   "outputs": [],
   "source": [
    "data = pd.read_csv('book1.csv')"
   ]
  },
  {
   "cell_type": "markdown",
   "metadata": {},
   "source": [
    "the read_csv() of pandas library is used to import csv file to the program and which is stored into a variable named 'data'"
   ]
  },
  {
   "cell_type": "code",
   "execution_count": 77,
   "metadata": {},
   "outputs": [],
   "source": [
    "df=pd.DataFrame(data,columns=['X','Y'])"
   ]
  },
  {
   "cell_type": "markdown",
   "metadata": {},
   "source": [
    "the DataFrame() of pandas library takes the parameters like\n",
    "'data' which is the data source adn the name of the columns and convert the data to a 2D matrix."
   ]
  },
  {
   "cell_type": "code",
   "execution_count": 78,
   "metadata": {},
   "outputs": [],
   "source": [
    "kmeans = KMeans(n_clusters=4).fit(df)\n",
    "centroids = kmeans.cluster_centers_"
   ]
  },
  {
   "cell_type": "markdown",
   "metadata": {},
   "source": [
    "KMeans() is a function of KMeans under sklearn.cluster package which takes parameters such as number of clusters as 'n_clusters' and fit() fits the data into the function."
   ]
  },
  {
   "cell_type": "code",
   "execution_count": null,
   "metadata": {},
   "outputs": [],
   "source": [
    "plt.scatter(df['X'], df['Y'], c= kmeans.labels_, s=50, alpha=0.5)\n",
    "\n",
    "plt.scatter(centroids[:, 0], centroids[:, 1], c='red', s=50)"
   ]
  },
  {
   "cell_type": "markdown",
   "metadata": {},
   "source": [
    "the above code is to plot the scatter graph of the centroids and the data points close to them .  "
   ]
  },
  {
   "cell_type": "markdown",
   "metadata": {},
   "source": [
    "these fucntions takes parameters like (X coordinate ,Y coordinate ,color of the points ,size of the points) in the first line of code the value of c is  'kmeans.labels_'  it specifies that there should be different colours for each labels as per the labels count. "
   ]
  },
  {
   "cell_type": "markdown",
   "metadata": {},
   "source": [
    "# Output explanation"
   ]
  },
  {
   "cell_type": "code",
   "execution_count": 109,
   "metadata": {},
   "outputs": [
    {
     "name": "stdout",
     "output_type": "stream",
     "text": [
      "centroids for the given data =\n",
      "\n",
      "[[ 54.625       60.75      ]\n",
      " [ 33.33333333 546.58333333]\n",
      " [506.2         68.1       ]\n",
      " [659.         725.33333333]]\n"
     ]
    }
   ],
   "source": [
    "print(\"centroids for the given data =\\n\")\n",
    "print(centroids)"
   ]
  },
  {
   "cell_type": "markdown",
   "metadata": {},
   "source": [
    "the above code shows the centroids for the number of clusters given (4 for this example)"
   ]
  },
  {
   "cell_type": "code",
   "execution_count": 108,
   "metadata": {},
   "outputs": [
    {
     "data": {
      "text/plain": [
       "<matplotlib.collections.PathCollection at 0x2a2f14e43c8>"
      ]
     },
     "execution_count": 108,
     "metadata": {},
     "output_type": "execute_result"
    },
    {
     "data": {
      "image/png": "[encoded data removed]",
      "text/plain": [
       "<Figure size 432x288 with 1 Axes>"
      ]
     },
     "metadata": {
      "needs_background": "light"
     },
     "output_type": "display_data"
    }
   ],
   "source": [
    "plt.scatter(df['X'], df['Y'], c= kmeans.labels_, s=50, alpha=0.5)\n",
    "\n",
    "plt.scatter(centroids[:, 0], centroids[:, 1], c='red', s=50)"
   ]
  },
  {
   "cell_type": "markdown",
   "metadata": {},
   "source": [
    "the red dots are the data points for the centroids and the different coloured points are the data points which are clusterd into groups  according to their relativeness to the centroids"
   ]
  },
  {
   "cell_type": "code",
   "execution_count": null,
   "metadata": {},
   "outputs": [],
   "source": []
  }
 ],
 "metadata": {
  "kernelspec": {
   "display_name": "Python 3",
   "language": "python",
   "name": "python3"
  },
  "language_info": {
   "codemirror_mode": {
    "name": "ipython",
    "version": 3
   },
   "file_extension": ".py",
   "mimetype": "text/x-python",
   "name": "python",
   "nbconvert_exporter": "python",
   "pygments_lexer": "ipython3",
   "version": "3.7.4"
  }
 },
 "nbformat": 4,
 "nbformat_minor": 2
}
